{
 "cells": [
  {
   "cell_type": "code",
   "execution_count": 1,
   "metadata": {},
   "outputs": [],
   "source": [
    "%matplotlib inline\n",
    "import random\n",
    "import numpy as np\n",
    "import matplotlib.pyplot as plt\n",
    "from math import factorial\n",
    "import itertools"
   ]
  },
  {
   "cell_type": "code",
   "execution_count": 2,
   "metadata": {},
   "outputs": [
    {
     "name": "stdout",
     "output_type": "stream",
     "text": [
      "Для окончания введите \"stop\" \n",
      "0 \n",
      "28 \n",
      "0 \n",
      "27 \n",
      "28 \n",
      "8 \n",
      "22 \n",
      "27 \n",
      "16 \n",
      "30 \n",
      "26 \n",
      "34 \n",
      "34 \n",
      "15 \n",
      "33 stop\n"
     ]
    }
   ],
   "source": [
    "# Задание 1\n",
    "\n",
    "print('Для окончания введите \"stop\"', end=' ')\n",
    "\n",
    "while True:\n",
    "    stop = input()\n",
    "    if stop == 'stop':\n",
    "        break\n",
    "    x = random.randint(0, 36)\n",
    "    print(x, end=' ')\n"
   ]
  },
  {
   "cell_type": "code",
   "execution_count": 3,
   "metadata": {},
   "outputs": [
    {
     "name": "stdout",
     "output_type": "stream",
     "text": [
      "Вероятность выпадения номера 12 равна 2.69%\n",
      "Вероятность выпадения номера 32 равна 2.68%\n",
      "Р (А) + Р (В) = 5.37%\n",
      "Р (А + В) = 5.39%\n",
      "При увеличении попыток разница стремится к 0\n"
     ]
    }
   ],
   "source": [
    "# Задание 2.1\n",
    "\n",
    "quantity = 1000000\n",
    "first_number = random.randint(0, 36)\n",
    "second_number = random.randint(0, 36)\n",
    "while first_number == second_number:\n",
    "    second_number = random.randint(0, 36)\n",
    "\n",
    "k_first_number, k_second_number, k_both = 0, 0, 0\n",
    "\n",
    "for i in range(quantity):\n",
    "    x = random.randint(0, 36)\n",
    "    if x == first_number:\n",
    "        k_first_number += 1\n",
    "    elif x == second_number:\n",
    "        k_second_number += 1\n",
    "\n",
    "for i in range(quantity):\n",
    "    x = random.randint(0, 36)\n",
    "    if x == first_number or x == second_number:\n",
    "        k_both += 1\n",
    "\n",
    "probability_first_number = k_first_number / quantity * 100\n",
    "probability_second_number = k_second_number / quantity * 100\n",
    "probability_both = k_both / quantity * 100\n",
    "\n",
    "print(f'Вероятность выпадения номера {first_number} равна {probability_first_number:.2f}%')\n",
    "print(f'Вероятность выпадения номера {second_number} равна {probability_second_number:.2f}%')\n",
    "print(f'Р (А) + Р (В) = {probability_first_number + probability_second_number:.2f}%')\n",
    "print(f'Р (А + В) = {probability_both:.2f}%')\n",
    "print('При увеличении попыток разница стремится к 0')\n"
   ]
  },
  {
   "cell_type": "code",
   "execution_count": 4,
   "metadata": {},
   "outputs": [
    {
     "name": "stdout",
     "output_type": "stream",
     "text": [
      "[9 1 1 4 0 0 4 2 3 8]\n",
      "[8 7 1 5 1 3 4 1 0 2]\n",
      "[7 5 1 9 9 6 1 3 2 7]\n",
      "[8 8 5 5 5 7 7 7 1 2]\n",
      "[7 5 1 7 9 6 5 6 0 9]\n",
      "[6 4 3 3 6 7 4 7 2 5]\n",
      "[1 2 0 3 6 1 6 2 3 7]\n",
      "[4 0 6 0 9 2 4 5 9 0]\n",
      "[2 0 6 0 8 4 0 7 4 5]\n",
      "[5 4 3 0 3 8 4 6 7 9]\n",
      "[32, 32, 50, 55, 55, 47, 31, 39, 36, 49]\n"
     ]
    },
    {
     "data": {
      "image/png": "[encoded data removed]",
      "text/plain": [
       "<Figure size 432x288 with 1 Axes>"
      ]
     },
     "metadata": {
      "needs_background": "light"
     },
     "output_type": "display_data"
    }
   ],
   "source": [
    "# Задание 2.2\n",
    "\n",
    "quantity = 10\n",
    "sum_x = []\n",
    "\n",
    "for i in range(quantity):\n",
    "    x = np.random.randint(0, 10, 10)\n",
    "    print(x)\n",
    "    sum_x.append(sum(x))\n",
    "print(sum_x)\n",
    "\n",
    "plt.hist(sum_x, 10)\n",
    "plt.xlabel('sum (x)')\n",
    "plt.show()"
   ]
  },
  {
   "cell_type": "code",
   "execution_count": 5,
   "metadata": {},
   "outputs": [
    {
     "name": "stdout",
     "output_type": "stream",
     "text": [
      "Оценочный результат = 0.363\n",
      "Точный результат = 0.375\n",
      "Коэффициент С = 6.0\n"
     ]
    }
   ],
   "source": [
    "# Задание 3\n",
    "\n",
    "k, n = 0, 1000\n",
    "k_success = 2\n",
    "a = np.random.randint(0, 2, n)\n",
    "b = np.random.randint(0, 2, n)\n",
    "c = np.random.randint(0, 2, n)\n",
    "d = np.random.randint(0, 2, n)\n",
    "x = a + b + c + d\n",
    "\n",
    "for i in range(0, n):\n",
    "    if x[i] == k_success:\n",
    "        k = k + 1\n",
    "print('Оценочный результат =', k / n)\n",
    "\n",
    "b_n = 4\n",
    "b_k = k_success\n",
    "c = factorial(b_n) / (factorial(b_k) * factorial(b_n - b_k))\n",
    "p = c * 0.5 ** b_k * 0.5 ** (b_n - b_k)\n",
    "print('Точный результат =', p)\n",
    "print('Коэффициент С =', c)"
   ]
  },
  {
   "cell_type": "code",
   "execution_count": 6,
   "metadata": {},
   "outputs": [
    {
     "name": "stdout",
     "output_type": "stream",
     "text": [
      "Оценочный результат = 0.375459\n",
      "Точный результат = 0.375\n",
      "Коэффициент С = 6.0\n"
     ]
    }
   ],
   "source": [
    "k, n = 0, 1000000\n",
    "k_success = 2\n",
    "a = np.random.randint(0, 2, n)\n",
    "b = np.random.randint(0, 2, n)\n",
    "c = np.random.randint(0, 2, n)\n",
    "d = np.random.randint(0, 2, n)\n",
    "x = a + b + c + d\n",
    "\n",
    "for i in range(0, n):\n",
    "    if x[i] == k_success:\n",
    "        k = k + 1\n",
    "print('Оценочный результат =', k / n)\n",
    "\n",
    "b_n = 4\n",
    "b_k = k_success\n",
    "c = factorial(b_n) / (factorial(b_k) * factorial(b_n - b_k))\n",
    "p = c * 0.5 ** b_k * 0.5 ** (b_n - b_k)\n",
    "print('Точный результат =', p)\n",
    "print('Коэффициент С =', c)"
   ]
  },
  {
   "cell_type": "code",
   "execution_count": 7,
   "metadata": {},
   "outputs": [
    {
     "name": "stdout",
     "output_type": "stream",
     "text": [
      "Оценочный результат = 0.062119\n",
      "Точный результат = 0.0625\n",
      "Коэффициент С = 1.0\n"
     ]
    }
   ],
   "source": [
    "k, n = 0, 1000000\n",
    "k_success = 4\n",
    "a = np.random.randint(0, 2, n)\n",
    "b = np.random.randint(0, 2, n)\n",
    "c = np.random.randint(0, 2, n)\n",
    "d = np.random.randint(0, 2, n)\n",
    "x = a + b + c + d\n",
    "\n",
    "for i in range(0, n):\n",
    "    if x[i] == k_success:\n",
    "        k = k + 1\n",
    "print('Оценочный результат =', k / n)\n",
    "\n",
    "b_n = 4\n",
    "b_k = k_success\n",
    "c = factorial(b_n) / (factorial(b_k) * factorial(b_n - b_k))\n",
    "p = c * 0.5 ** b_k * 0.5 ** (b_n - b_k)\n",
    "print('Точный результат =', p)\n",
    "print('Коэффициент С =', c)"
   ]
  },
  {
   "cell_type": "code",
   "execution_count": 8,
   "metadata": {},
   "outputs": [
    {
     "name": "stdout",
     "output_type": "stream",
     "text": [
      "00 01 02 03 04 05 06 07 08 09 10 11 12 13 14 15 16 17 18 19 20 21 22 23 24 25 26 27 28 29 30 31 32 33 34 35 36 37 38 39 40 41 42 43 44 45 46 47 48 49 50 51 52 53 54 55 56 57 58 59 60 61 62 63 64 65 66 67 68 69 70 71 72 73 74 75 76 77 78 79 80 81 82 83 84 85 86 87 88 89 90 91 92 93 94 95 96 97 98 99 "
     ]
    }
   ],
   "source": [
    "# Задание 4\n",
    "\n",
    "for p in itertools.product(\"0123456789\", repeat=2):\n",
    "    print(''.join(p), end=' ')"
   ]
  },
  {
   "cell_type": "code",
   "execution_count": 9,
   "metadata": {},
   "outputs": [
    {
     "name": "stdout",
     "output_type": "stream",
     "text": [
      "11111 11110 11101 11100 11011 11010 11001 11000 10111 10110 10101 10100 10011 10010 10001 10000 01111 01110 01101 01100 01011 01010 01001 01000 00111 00110 00101 00100 00011 00010 00001 00000 "
     ]
    }
   ],
   "source": [
    "for p in itertools.product(\"10\", repeat=5):\n",
    "    print(''.join(p), end=' ')"
   ]
  },
  {
   "cell_type": "code",
   "execution_count": 10,
   "metadata": {},
   "outputs": [
    {
     "name": "stdout",
     "output_type": "stream",
     "text": [
      "01 02 03 04 05 06 07 08 09 10 12 13 14 15 16 17 18 19 20 21 23 24 25 26 27 28 29 30 31 32 34 35 36 37 38 39 40 41 42 43 45 46 47 48 49 50 51 52 53 54 56 57 58 59 60 61 62 63 64 65 67 68 69 70 71 72 73 74 75 76 78 79 80 81 82 83 84 85 86 87 89 90 91 92 93 94 95 96 97 98 "
     ]
    }
   ],
   "source": [
    "for p in itertools.permutations(\"0123456789\", 2):\n",
    "    print(''.join(p), end=' ')"
   ]
  },
  {
   "cell_type": "code",
   "execution_count": 11,
   "metadata": {},
   "outputs": [
    {
     "name": "stdout",
     "output_type": "stream",
     "text": [
      "01 02 03 04 05 06 07 08 09 12 13 14 15 16 17 18 19 23 24 25 26 27 28 29 34 35 36 37 38 39 45 46 47 48 49 56 57 58 59 67 68 69 78 79 89 "
     ]
    }
   ],
   "source": [
    "for p in itertools.combinations(\"0123456789\", 2):\n",
    "    print(''.join(p), end=' ')"
   ]
  },
  {
   "cell_type": "code",
   "execution_count": 12,
   "metadata": {},
   "outputs": [
    {
     "name": "stdout",
     "output_type": "stream",
     "text": [
      "Коэффициенты прямой, посчитанные вручную: a = 0.7086565768412031, b = 0.16224333164251425\n",
      "Коэффициенты прямой, посчитанные при помощи numpy: a = 0.7086565768412036, b = 0.1622433316425139\n",
      "Коэффициент корреляции, посчитанный вручную: 0.9157242699891494\n",
      "Коэффициент корреляции, посчитанный при помощи numpy: 0.9157242699891492\n"
     ]
    },
    {
     "data": {
      "image/png": "[encoded data removed]",
      "text/plain": [
       "<Figure size 432x288 with 1 Axes>"
      ]
     },
     "metadata": {
      "needs_background": "light"
     },
     "output_type": "display_data"
    }
   ],
   "source": [
    "# Задание 5\n",
    "\n",
    "n = 100\n",
    "r = 0.7\n",
    "x = np.random.rand(n)\n",
    "y = r * x + (1 - r) * np.random.rand(n)\n",
    "plt.plot(x, y, '.')\n",
    "\n",
    "a = (np.sum(x) * np.sum(y) - n * np.sum(x * y)) / (np.sum(x) * np.sum(x) - n * np.sum(x * x))\n",
    "b = (np.sum(y) - a * np.sum(x)) / n\n",
    "\n",
    "np.warnings.filterwarnings('ignore')\n",
    "A = np.vstack([x, np.ones(len(x))]).T\n",
    "a1, b1 = np.linalg.lstsq(A, y)[0]\n",
    "\n",
    "r = np.sum((x - np.mean(x)) * (y - np.mean(y))) / np.sqrt(np.sum(((x - np.mean(x)) ** 2) * np.sum(((y - np.mean(y)) ** 2))))\n",
    "r1 = np.corrcoef(x, y)\n",
    "\n",
    "print('Коэффициенты прямой, посчитанные вручную: a = {}, b = {}'.format(a, b))\n",
    "print('Коэффициенты прямой, посчитанные при помощи numpy: a = {}, b = {}'.format(a1, b1))\n",
    "\n",
    "print('Коэффициент корреляции, посчитанный вручную:', r)\n",
    "print('Коэффициент корреляции, посчитанный при помощи numpy:', r1[0][1])\n",
    "\n",
    "plt.plot([0, 1], [b, a + b])\n",
    "plt.xlabel('x')\n",
    "plt.ylabel('y')\n",
    "plt.grid()"
   ]
  }
 ],
 "metadata": {
  "kernelspec": {
   "display_name": "Python 3",
   "language": "python",
   "name": "python3"
  },
  "language_info": {
   "codemirror_mode": {
    "name": "ipython",
    "version": 3
   },
   "file_extension": ".py",
   "mimetype": "text/x-python",
   "name": "python",
   "nbconvert_exporter": "python",
   "pygments_lexer": "ipython3",
   "version": "3.8.1"
  }
 },
 "nbformat": 4,
 "nbformat_minor": 4
}
