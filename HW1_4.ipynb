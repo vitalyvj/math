{
 "cells": [
  {
   "cell_type": "code",
   "execution_count": null,
   "metadata": {},
   "outputs": [],
   "source": [
    "%matplotlib inline\n",
    "import matplotlib.pyplot as plt\n",
    "import numpy as np"
   ]
  },
  {
   "cell_type": "code",
   "execution_count": null,
   "metadata": {
    "scrolled": false
   },
   "outputs": [],
   "source": [
    "k = 1\n",
    "x = np.linspace(-10, 10, 101)\n",
    "plt.plot(x, np.cos(k * x))\n",
    "\n",
    "# для красоты исключаем значения, близкие к единице\n",
    "while 0.9 < k < 1.1:\n",
    "    k = np.random.uniform(0.3, 3)\n",
    "plt.plot(x, np.cos(k * x))\n",
    "\n",
    "plt.xlabel('x')\n",
    "plt.ylabel('y(x)')\n",
    "plt.title(f'k = {k:.3f}')\n",
    "plt.show()"
   ]
  }
 ],
 "metadata": {
  "kernelspec": {
   "display_name": "Python 3",
   "language": "python",
   "name": "python3"
  },
  "language_info": {
   "codemirror_mode": {
    "name": "ipython",
    "version": 3
   },
   "file_extension": ".py",
   "mimetype": "text/x-python",
   "name": "python",
   "nbconvert_exporter": "python",
   "pygments_lexer": "ipython3",
   "version": "3.8.1"
  }
 },
 "nbformat": 4,
 "nbformat_minor": 4
}
