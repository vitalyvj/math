{
 "cells": [
  {
   "cell_type": "code",
   "execution_count": 1,
   "metadata": {},
   "outputs": [],
   "source": [
    "import numpy as np\n",
    "import scipy.linalg\n",
    "import matplotlib.pyplot as plt\n",
    "np.warnings.filterwarnings('ignore')"
   ]
  },
  {
   "cell_type": "code",
   "execution_count": 2,
   "metadata": {},
   "outputs": [
    {
     "name": "stdout",
     "output_type": "stream",
     "text": [
      "x1 = -9.2000\n",
      "x2 = 0.9000\n",
      "x3 = 6.4667\n"
     ]
    }
   ],
   "source": [
    "# задание 1\n",
    "\n",
    "A = np.array([[1, 2, 3],\n",
    "              [4, 0, 6],\n",
    "              [7, 8, 9]])\n",
    "B = np.array([12, 2, 1])\n",
    "\n",
    "X = np.linalg.solve(A, B)\n",
    "print(f'x1 = {X[0]:.4f}\\nx2 = {X[1]:.4f}\\nx3 = {X[2]:.4f}')\n",
    "\n",
    "# print(np.dot(A, X))\n",
    "# print(np.dot(np.linalg.inv(A), B))"
   ]
  },
  {
   "cell_type": "code",
   "execution_count": 3,
   "metadata": {},
   "outputs": [
    {
     "name": "stdout",
     "output_type": "stream",
     "text": [
      "x1 = 1.1392\n",
      "x2 = -0.9050\n",
      "x3 = -0.9010\n"
     ]
    }
   ],
   "source": [
    "# задание 2\n",
    "\n",
    "A = np.array([[1, 2, -1],\n",
    "              [3, -4, 0],\n",
    "              [8, -5, 2],\n",
    "              [2, 0, -5],\n",
    "              [11, 4, -7]])\n",
    "B = np.array([1, 7, 12, 7, 15])\n",
    "\n",
    "X = np.linalg.lstsq(A, B)\n",
    "print(f'x1 = {X[0][0]:.4f}\\nx2 = {X[0][1]:.4f}\\nx3 = {X[0][2]:.4f}')\n",
    "\n",
    "# X1 = np.array([X[0][0], X[0][1], X[0][2]])\n",
    "# print(np.dot(A, X1))"
   ]
  },
  {
   "cell_type": "code",
   "execution_count": 4,
   "metadata": {},
   "outputs": [
    {
     "name": "stdout",
     "output_type": "stream",
     "text": [
      "Определитель матрицы А = 6.66133814775094e-16\n",
      "\n",
      "B = [[12  2  1]]\n",
      "Ранг основной матрицы = 2\n",
      "Ранг расширенной матрицы = 3\n",
      "Система не имеет решений\n",
      "\n",
      "B = [[3 2 1]]\n",
      "Ранг основной матрицы = 2\n",
      "Ранг расширенной матрицы = 2\n",
      "x1 = -1.9444\n",
      "x2 = -0.1111\n",
      "x3 = 1.7222\n"
     ]
    }
   ],
   "source": [
    "# задание 3\n",
    "\n",
    "A = np.array([[1, 2, 3],\n",
    "              [4, 5, 6],\n",
    "              [7, 8, 9]])\n",
    "\n",
    "B = np.array([[12, 2, 1]])\n",
    "\n",
    "\n",
    "def rank(A, B):\n",
    "    C = np.concatenate((A, B.T), axis=1)\n",
    "    print('\\nB =', B)\n",
    "    print('Ранг основной матрицы =', np.linalg.matrix_rank(A))\n",
    "    print('Ранг расширенной матрицы =', np.linalg.matrix_rank(C))\n",
    "    if np.linalg.matrix_rank(A) < np.linalg.matrix_rank(C):\n",
    "        print('Система не имеет решений')\n",
    "\n",
    "\n",
    "print('Определитель матрицы А =', np.linalg.det(A))\n",
    "\n",
    "rank(A, B)\n",
    "\n",
    "B = np.array([[3, 2, 1]])\n",
    "rank(A, B)\n",
    "\n",
    "A1 = np.array([[1, 2, 3],\n",
    "               [4, 5, 6]])\n",
    "B1 = np.array([3, 2])\n",
    "X = np.linalg.lstsq(A1, B1)\n",
    "\n",
    "print(f'x1 = {X[0][0]:.4f}\\nx2 = {X[0][1]:.4f}\\nx3 = {X[0][2]:.4f}')\n",
    "\n",
    "# X1 = np.array([X[0][0], X[0][1], X[0][2]])\n",
    "# print(np.dot(A, X1))"
   ]
  },
  {
   "cell_type": "code",
   "execution_count": 5,
   "metadata": {},
   "outputs": [
    {
     "name": "stdout",
     "output_type": "stream",
     "text": [
      "\n",
      "Матрица A:\n",
      " [[ 1  2  3]\n",
      " [ 2 16 21]\n",
      " [ 4 28 73]]\n",
      "Определитель матрицы А = 432.00000000000017\n",
      "\n",
      "Матрица P:\n",
      " [[0. 1. 0.]\n",
      " [0. 0. 1.]\n",
      " [1. 0. 0.]]\n",
      "\n",
      "Матрица L:\n",
      " [[ 1.    0.    0.  ]\n",
      " [ 0.25  1.    0.  ]\n",
      " [ 0.5  -0.4   1.  ]]\n",
      "\n",
      "Матрица U:\n",
      " [[  4.    28.    73.  ]\n",
      " [  0.    -5.   -15.25]\n",
      " [  0.     0.   -21.6 ]]\n",
      "\n",
      "Матрица B:\n",
      " [7 2 8]\n",
      "\n",
      "Решение:\n",
      "x1 = 9.0\n",
      "x2 = -1.0\n",
      "x3 = -0.0\n"
     ]
    }
   ],
   "source": [
    "# задание 4\n",
    "\n",
    "A = np.array([[1, 2, 3],\n",
    "              [2, 16, 21],\n",
    "              [4, 28, 73]])\n",
    "\n",
    "print('\\nМатрица A:\\n', A)\n",
    "print('Определитель матрицы А =', np.linalg.det(A))\n",
    "\n",
    "P, L, U = scipy.linalg.lu(A)\n",
    "print('\\nМатрица P:\\n', P)\n",
    "print('\\nМатрица L:\\n', L)\n",
    "print('\\nМатрица U:\\n', U)\n",
    "\n",
    "B = np.array([7, 2, 8])\n",
    "print('\\nМатрица B:\\n', B)\n",
    "\n",
    "X = np.linalg.solve(A, B)\n",
    "print(f'\\nРешение:\\nx1 = {X[0]}\\nx2 = {X[1]}\\nx3 = {X[2]}')\n",
    "\n",
    "# print(np.dot(A, X))\n",
    "# print(np.dot(P.T, A) - np.dot(L, U))"
   ]
  },
  {
   "cell_type": "code",
   "execution_count": 6,
   "metadata": {},
   "outputs": [
    {
     "name": "stdout",
     "output_type": "stream",
     "text": [
      "x = 1.3819\n",
      "y = -0.1808\n",
      "z = 0.0203\n",
      "Функция Q достигает минимума 1.94280462 в точке x = 1.3819\n"
     ]
    },
    {
     "data": {
      "image/png": "[encoded data removed]",
      "text/plain": [
       "<Figure size 432x288 with 1 Axes>"
      ]
     },
     "metadata": {
      "needs_background": "light"
     },
     "output_type": "display_data"
    }
   ],
   "source": [
    "# задание 5\n",
    "\n",
    "A = np.array([[1, 2, -1],\n",
    "              [8, -5, 2]])\n",
    "\n",
    "B = np.array([1, 12])\n",
    "\n",
    "X = np.linalg.lstsq(A, B)\n",
    "print(f'x = {X[0][0]:.4f}\\ny = {X[0][1]:.4f}\\nz = {X[0][2]:.4f}')\n",
    "\n",
    "\n",
    "def Q(x, y, z):\n",
    "    return x ** 2 + y ** 2 + z ** 2\n",
    "\n",
    "\n",
    "x = np.linspace(1, 2, 10001)\n",
    "plt.plot(x, Q(x, 10 * x - 14, 21 * x - 29))\n",
    "plt.xlabel('x')\n",
    "plt.ylabel('Q')\n",
    "plt.ylim(0, 100)\n",
    "plt.grid()\n",
    "\n",
    "a_min = 100\n",
    "for i in x:\n",
    "    a = Q(i, 10 * i - 14, 21 * i - 29)\n",
    "    if a < a_min:\n",
    "        a_min = a\n",
    "        i_min = i\n",
    "print(f'Функция Q достигает минимума {a_min} в точке x = {i_min}')\n",
    "\n",
    "# X1 = np.array([X[0][0], X[0][1], X[0][2]])\n",
    "# print(np.dot(A, X1))"
   ]
  },
  {
   "cell_type": "code",
   "execution_count": 7,
   "metadata": {},
   "outputs": [
    {
     "name": "stdout",
     "output_type": "stream",
     "text": [
      "\n",
      "Матрица A:\n",
      " [[1 2 3]\n",
      " [4 5 6]\n",
      " [7 8 9]]\n",
      "\n",
      "Матрица Q:\n",
      " [[-0.12309149  0.90453403  0.40824829]\n",
      " [-0.49236596  0.30151134 -0.81649658]\n",
      " [-0.86164044 -0.30151134  0.40824829]]\n",
      "\n",
      "Матрица R:\n",
      " [[-8.12403840e+00 -9.60113630e+00 -1.10782342e+01]\n",
      " [ 0.00000000e+00  9.04534034e-01  1.80906807e+00]\n",
      " [ 0.00000000e+00  0.00000000e+00 -8.88178420e-16]]\n",
      "\n",
      "Одно из псевдорешений:\n",
      "x1 = 1.5000\n",
      "x2 = 0.0000\n",
      "x3 = 0.0000\n",
      "Невязка системы = 1.224744871391589\n",
      "Норма решения = 1.499999999999996\n",
      "\n",
      "Нормальное псевдорешение:\n",
      "x1 = 1.2500\n",
      "x2 = 0.5000\n",
      "x3 = -0.2500\n",
      "Невязка системы = 1.224744871391589\n",
      "Норма решения = 1.3693063937629153\n"
     ]
    }
   ],
   "source": [
    "# задание 6\n",
    "\n",
    "A = np.array([[1, 2, 3],\n",
    "              [4, 5, 6],\n",
    "              [7, 8, 9]])\n",
    "\n",
    "B = np.array([2, 5, 11])\n",
    "\n",
    "Q, R = np.linalg.qr(A)\n",
    "\n",
    "print('\\nМатрица A:\\n', A)\n",
    "print('\\nМатрица Q:\\n', Q)\n",
    "print('\\nМатрица R:\\n', R)\n",
    "\n",
    "R1 = R[:2, :2]\n",
    "B1 = np.dot(Q.T, B)[:2]\n",
    "X1 = np.linalg.solve(R1, B1)\n",
    "X = np.append(X1, 0)\n",
    "print(f'\\nОдно из псевдорешений:\\nx1 = {X[0]:.4f}\\nx2 = {X[1]:.4f}\\nx3 = {X[2]:.4f}')\n",
    "print(f'Невязка системы =', np.linalg.norm(np.dot(A, X) - B))\n",
    "print(f'Норма решения =', np.linalg.norm(X))\n",
    "\n",
    "\n",
    "X_min = [1.25, 0.5, -0.25]\n",
    "\n",
    "print(f'\\nНормальное псевдорешение:\\nx1 = {X_min[0]:.4f}\\nx2 = {X_min[1]:.4f}\\nx3 = {X_min[2]:.4f}')\n",
    "print(f'Невязка системы =', np.linalg.norm(np.dot(A, X_min) - B))\n",
    "print(f'Норма решения =', np.linalg.norm(X_min))\n",
    "\n",
    "# print(np.dot(A, X))\n",
    "# print(np.dot(A, X_min))"
   ]
  }
 ],
 "metadata": {
  "kernelspec": {
   "display_name": "Python 3",
   "language": "python",
   "name": "python3"
  },
  "language_info": {
   "codemirror_mode": {
    "name": "ipython",
    "version": 3
   },
   "file_extension": ".py",
   "mimetype": "text/x-python",
   "name": "python",
   "nbconvert_exporter": "python",
   "pygments_lexer": "ipython3",
   "version": "3.8.1"
  }
 },
 "nbformat": 4,
 "nbformat_minor": 4
}
